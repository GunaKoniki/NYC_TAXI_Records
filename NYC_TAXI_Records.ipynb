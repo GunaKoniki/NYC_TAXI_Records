{
 "cells": [
  {
   "cell_type": "markdown",
   "metadata": {
    "id": "iSyWID7_Uw0r"
   },
   "source": [
    "<font color = 'green'>***Analyzing NYC Taxi Trip Records: A Comparative Study of Passenger Behaviors and Fare Patterns between March and May***</font>"
   ]
  },
  {
   "cell_type": "markdown",
   "metadata": {
    "id": "gVwssWkIVF3k"
   },
   "source": [
    "*Installing Required packages*"
   ]
  },
  {
   "cell_type": "code",
   "execution_count": null,
   "metadata": {
    "colab": {
     "base_uri": "https://localhost:8080/"
    },
    "id": "-4wVB0mILP5H",
    "outputId": "5045fb81-1928-4f00-b456-3ce8e2b6ff71"
   },
   "outputs": [],
   "source": [
    "!pip install tensorflow-data-validation"
   ]
  },
  {
   "cell_type": "code",
   "execution_count": null,
   "metadata": {
    "colab": {
     "base_uri": "https://localhost:8080/"
    },
    "id": "okQISn79MZCM",
    "outputId": "1cf45280-b7b0-4b8f-bd7b-c69cbcb9a636"
   },
   "outputs": [],
   "source": [
    "!pip install apache-beam"
   ]
  },
  {
   "cell_type": "markdown",
   "metadata": {
    "id": "UE1mFchEVNfX"
   },
   "source": [
    "*Importing all the necessary libraries*"
   ]
  },
  {
   "cell_type": "code",
   "execution_count": null,
   "metadata": {
    "id": "GRSddP3ixR_e"
   },
   "outputs": [],
   "source": [
    "import numpy as np\n",
    "import pandas as pd\n",
    "import matplotlib.pyplot as plt\n",
    "import seaborn as sns\n",
    "import tensorflow as tf\n",
    "import tensorflow_data_validation as tfdv"
   ]
  },
  {
   "cell_type": "code",
   "execution_count": null,
   "metadata": {
    "colab": {
     "base_uri": "https://localhost:8080/"
    },
    "id": "VTV5iy6gyZUz",
    "outputId": "21dfaf5a-bff5-4452-9867-0fc088cde890"
   },
   "outputs": [],
   "source": [
    "# connecting to google drive\n",
    "from google.colab import drive\n",
    "drive.mount('/content/drive')"
   ]
  },
  {
   "cell_type": "markdown",
   "metadata": {
    "id": "YPTsnJT9bLPd"
   },
   "source": [
    "***Datasets dowloaded from https://www1.nyc.gov/site/tlc/about/tlc-trip-record-data.page***"
   ]
  },
  {
   "cell_type": "code",
   "execution_count": null,
   "metadata": {
    "id": "mrgGg2GeykQi"
   },
   "outputs": [],
   "source": [
    "# loading the data into the Parquet file into a Pandas DataFrame\n",
    "march_data = pd.read_parquet('/content/drive/MyDrive/yellow_tripdata_2020-03.parquet')\n",
    "may_data = pd.read_parquet('/content/drive/MyDrive/yellow_tripdata_2020-05.parquet')"
   ]
  },
  {
   "cell_type": "markdown",
   "metadata": {
    "id": "rh6G7lhAWkai"
   },
   "source": [
    "1) Prep the data in order to be ready to be fed to a model.\n",
    "\n",
    "Look for missing, null, NaN records.\n",
    "\n",
    "Find outliers.\n",
    "\n",
    "Transform data – all entries should be numeric."
   ]
  },
  {
   "cell_type": "code",
   "execution_count": null,
   "metadata": {
    "colab": {
     "base_uri": "https://localhost:8080/",
     "height": 226
    },
    "id": "CKz38qbwy1tw",
    "outputId": "b7cc7681-400a-4588-a6fe-9e44674328a0"
   },
   "outputs": [],
   "source": [
    "march_data.head()"
   ]
  },
  {
   "cell_type": "code",
   "execution_count": null,
   "metadata": {
    "colab": {
     "base_uri": "https://localhost:8080/"
    },
    "id": "tUrg36Ioy_Vg",
    "outputId": "26a1a050-af7d-4f15-8b9a-1f8e3259ba65"
   },
   "outputs": [],
   "source": [
    "print(march_data.shape)\n",
    "print(may_data.shape)"
   ]
  },
  {
   "cell_type": "code",
   "execution_count": null,
   "metadata": {
    "colab": {
     "base_uri": "https://localhost:8080/"
    },
    "id": "fdg6EmI-zGFw",
    "outputId": "ffc52a0f-1e79-4a94-a69e-fae2ec065c95"
   },
   "outputs": [],
   "source": [
    "march_data.info() # checking the info"
   ]
  },
  {
   "cell_type": "code",
   "execution_count": null,
   "metadata": {
    "colab": {
     "base_uri": "https://localhost:8080/"
    },
    "id": "_Qqpx8EPPIVB",
    "outputId": "f45746a6-7751-4957-d482-9faf12e125b2"
   },
   "outputs": [],
   "source": [
    "may_data.info()"
   ]
  },
  {
   "cell_type": "code",
   "execution_count": null,
   "metadata": {
    "colab": {
     "base_uri": "https://localhost:8080/"
    },
    "id": "jhL1uhbzzQqH",
    "outputId": "adbeb216-5695-4e42-854d-c76ff9e85eac"
   },
   "outputs": [],
   "source": [
    "march_data.isna().sum() # checking for null values"
   ]
  },
  {
   "cell_type": "code",
   "execution_count": null,
   "metadata": {
    "colab": {
     "base_uri": "https://localhost:8080/"
    },
    "id": "CA6DxKsgPOlw",
    "outputId": "5541d5b9-8861-4cf0-a514-59738b4aaafa"
   },
   "outputs": [],
   "source": [
    "march_data.isna().sum()"
   ]
  },
  {
   "cell_type": "code",
   "execution_count": null,
   "metadata": {
    "id": "tC6gzX8KzUF3"
   },
   "outputs": [],
   "source": [
    "march_data = march_data.drop(['airport_fee'], axis=1)\n",
    "may_data = may_data.drop(['airport_fee'], axis=1)"
   ]
  },
  {
   "cell_type": "code",
   "execution_count": null,
   "metadata": {
    "id": "Mlrr6IMPzvP1"
   },
   "outputs": [],
   "source": [
    "march_data = march_data.fillna(method = 'ffill')\n",
    "may_data = may_data.fillna(method = 'ffill')"
   ]
  },
  {
   "cell_type": "code",
   "execution_count": null,
   "metadata": {
    "colab": {
     "base_uri": "https://localhost:8080/"
    },
    "id": "b6Sz2yqmPTPV",
    "outputId": "271583fc-dd3e-4803-a7e9-0e95dc18969b"
   },
   "outputs": [],
   "source": [
    "march_data.isna().sum()"
   ]
  },
  {
   "cell_type": "code",
   "execution_count": null,
   "metadata": {
    "colab": {
     "base_uri": "https://localhost:8080/"
    },
    "id": "UofKGZfM0QCn",
    "outputId": "ee4fa587-6470-4151-fc78-ef1620e4649c"
   },
   "outputs": [],
   "source": [
    "may_data.isna().count()"
   ]
  },
  {
   "cell_type": "code",
   "execution_count": null,
   "metadata": {
    "colab": {
     "base_uri": "https://localhost:8080/",
     "height": 337
    },
    "id": "JUb02Pwm0SBo",
    "outputId": "92876007-093e-4d32-e49b-2af20cee76f9"
   },
   "outputs": [],
   "source": [
    "march_data.describe()"
   ]
  },
  {
   "cell_type": "code",
   "execution_count": null,
   "metadata": {
    "colab": {
     "base_uri": "https://localhost:8080/",
     "height": 320
    },
    "id": "UdktZc9W0pHA",
    "outputId": "7717eb5b-ef7d-4231-927f-225250ea5ba6"
   },
   "outputs": [],
   "source": [
    "may_data.describe()"
   ]
  },
  {
   "cell_type": "code",
   "execution_count": null,
   "metadata": {
    "id": "MKXoXttF0uOD"
   },
   "outputs": [],
   "source": [
    "# Handle outliers (assuming fare_amount and trip_distance are relevant columns)\n",
    "def remove_outliers(df, column):\n",
    "    q1 = df[column].quantile(0.25)\n",
    "    q3 = df[column].quantile(0.75)\n",
    "    iqr = q3 - q1\n",
    "    lower_bound = q1 - 1.5 * iqr\n",
    "    upper_bound = q3 + 1.5 * iqr\n",
    "    return df[(df[column] >= lower_bound) & (df[column] <= upper_bound)]\n",
    "\n",
    "march_data = remove_outliers(march_data, 'fare_amount')\n",
    "march_data = remove_outliers(march_data, 'trip_distance')\n",
    "may_data = remove_outliers(may_data, 'fare_amount')\n",
    "may_data = remove_outliers(may_data, 'trip_distance')"
   ]
  },
  {
   "cell_type": "code",
   "execution_count": null,
   "metadata": {
    "colab": {
     "base_uri": "https://localhost:8080/"
    },
    "id": "Vq9hsPwI9mwo",
    "outputId": "7e48d06e-3cfa-42f2-a653-d49a8390a8ab"
   },
   "outputs": [],
   "source": [
    "march_data.dtypes"
   ]
  },
  {
   "cell_type": "code",
   "execution_count": null,
   "metadata": {
    "id": "Ivk5R7482Dk6"
   },
   "outputs": [],
   "source": [
    "# Transform data to numeric\n",
    "# Assuming store_and_fwd_flag is categorical and needs to be converted to numeric\n",
    "march_data['store_and_fwd_flag'] = march_data['store_and_fwd_flag'].apply(lambda x: 1 if x == 'Y' else 0)\n",
    "may_data['store_and_fwd_flag'] = may_data['store_and_fwd_flag'].apply(lambda x: 1 if x == 'Y' else 0)"
   ]
  },
  {
   "cell_type": "code",
   "execution_count": null,
   "metadata": {
    "colab": {
     "base_uri": "https://localhost:8080/"
    },
    "id": "P3rziKhI-5R5",
    "outputId": "be9dd414-8670-4aba-f2a6-ef0efa430553"
   },
   "outputs": [],
   "source": [
    "march_data.dtypes"
   ]
  },
  {
   "cell_type": "markdown",
   "metadata": {
    "id": "OuoNhFw0Wwlp"
   },
   "source": [
    "2) List all types of data, numeric, categorical"
   ]
  },
  {
   "cell_type": "code",
   "execution_count": null,
   "metadata": {
    "colab": {
     "base_uri": "https://localhost:8080/"
    },
    "id": "i8Ujfh6O2R-4",
    "outputId": "8e47b7aa-fe84-4542-88ca-a612f4ec9c17"
   },
   "outputs": [],
   "source": [
    "# Task 2: List all types of data\n",
    "march_numeric_columns = march_data.select_dtypes(include=[np.number]).columns.tolist()\n",
    "march_categorical_columns = march_data.select_dtypes(include=[np.object]).columns.tolist()\n",
    "may_numeric_columns = may_data.select_dtypes(include=[np.number]).columns.tolist()\n",
    "may_categorical_columns = may_data.select_dtypes(include=[np.object]).columns.tolist()"
   ]
  },
  {
   "cell_type": "code",
   "execution_count": null,
   "metadata": {
    "colab": {
     "base_uri": "https://localhost:8080/"
    },
    "id": "ENbc_fNo_IlP",
    "outputId": "2615968b-ed28-44be-a00b-480cb9a87ce4"
   },
   "outputs": [],
   "source": [
    "march_numeric_columns"
   ]
  },
  {
   "cell_type": "code",
   "execution_count": null,
   "metadata": {
    "colab": {
     "base_uri": "https://localhost:8080/"
    },
    "id": "h_A8KQTZ_M44",
    "outputId": "1f5cdd98-9149-47f8-c147-161fec03c465"
   },
   "outputs": [],
   "source": [
    "march_categorical_columns #as we drop the airport_fee colums there are no category columns"
   ]
  },
  {
   "cell_type": "code",
   "execution_count": null,
   "metadata": {
    "colab": {
     "base_uri": "https://localhost:8080/"
    },
    "id": "fO6PQ_UYPwub",
    "outputId": "891ae7d2-d9c2-4a01-fa30-43de470e34e2"
   },
   "outputs": [],
   "source": [
    "may_categorical_columns"
   ]
  },
  {
   "cell_type": "markdown",
   "metadata": {
    "id": "a0YxI0YPXgoA"
   },
   "source": [
    "3) Perform EDA on data\n",
    "Utilize both:\n",
    "\n",
    "Classic approach in EDA (Pandas, Numpy libraries)\n",
    "\n",
    "The TFDV (TensorFlow Data Validation) module with the powerful graphical statistics\n",
    "generated (apache beam library…)\n",
    "\n",
    "Present dependencies and correlations among the various features in the data.\n",
    "\n",
    "List the most variables (Feature Importance) that will affect the target label."
   ]
  },
  {
   "cell_type": "code",
   "execution_count": null,
   "metadata": {
    "colab": {
     "base_uri": "https://localhost:8080/"
    },
    "id": "DFtBzYUF2cHw",
    "outputId": "b117f382-4c2f-48c5-d84a-60f3e0eb301c"
   },
   "outputs": [],
   "source": [
    "# Basic information about the data\n",
    "print(\"Basic Info:\")\n",
    "print(march_data.info())"
   ]
  },
  {
   "cell_type": "code",
   "execution_count": null,
   "metadata": {
    "colab": {
     "base_uri": "https://localhost:8080/",
     "height": 337
    },
    "id": "biMR6gGw2eFI",
    "outputId": "a91d931a-2ea5-42d1-a160-de77a6d9daae"
   },
   "outputs": [],
   "source": [
    "# Summary statistics\n",
    "march_summary_stats = march_data.describe()\n",
    "march_summary_stats"
   ]
  },
  {
   "cell_type": "code",
   "execution_count": null,
   "metadata": {
    "colab": {
     "base_uri": "https://localhost:8080/",
     "height": 605
    },
    "id": "sVj4SZdU2gXA",
    "outputId": "858d99ab-e30f-4434-dc54-f8f79ca8f8a0"
   },
   "outputs": [],
   "source": [
    "# Correlation matrix\n",
    "march_correlation_matrix = march_data.corr()\n",
    "march_correlation_matrix"
   ]
  },
  {
   "cell_type": "code",
   "execution_count": null,
   "metadata": {
    "colab": {
     "base_uri": "https://localhost:8080/",
     "height": 577
    },
    "id": "nKjfD_OV2nJ0",
    "outputId": "e00f136e-e98d-484b-e132-4483a76b2cbf"
   },
   "outputs": [],
   "source": [
    "# Create subplots\n",
    "fig, axes = plt.subplots(nrows=1, ncols=2, figsize=(15, 6))\n",
    "\n",
    "# Histogram for 'trip_distance' in march_data\n",
    "sns.histplot(march_data['fare_amount'], bins=30, kde=True, color='blue', ax=axes[0])\n",
    "axes[0].set_title('Distribution of trip_distance (March Data)')\n",
    "axes[0].set_xlabel('Distance')\n",
    "axes[0].set_ylabel('Frequency')\n",
    "\n",
    "# Histogram for 'trip_distance' in may_data\n",
    "sns.histplot(may_data['fare_amount'], bins=30, kde=True, color='olive', ax=axes[1])\n",
    "axes[1].set_title('Distribution of trip_distance (May data)')\n",
    "axes[1].set_xlabel('Distance')\n",
    "axes[1].set_ylabel('Frequency')\n",
    "\n",
    "# Adjust layout\n",
    "plt.tight_layout()\n",
    "\n",
    "# Show the plot\n",
    "plt.show()\n"
   ]
  },
  {
   "cell_type": "code",
   "execution_count": null,
   "metadata": {
    "colab": {
     "base_uri": "https://localhost:8080/",
     "height": 577
    },
    "id": "oeW2BJqMGDF4",
    "outputId": "8879cb68-bc40-40ee-e058-144616e552ba"
   },
   "outputs": [],
   "source": [
    "# Create subplots\n",
    "fig, axes = plt.subplots(nrows=1, ncols=2, figsize=(15, 6))\n",
    "\n",
    "# Histogram for 'trip_distance' in march_data\n",
    "sns.histplot(march_data['trip_distance'], bins=30, kde=True, color='blue', ax=axes[0])\n",
    "axes[0].set_title('Distribution of trip_distance (march data)')\n",
    "axes[0].set_xlabel('Distance')\n",
    "axes[0].set_ylabel('Frequency')\n",
    "\n",
    "# Histogram for 'trip_distance' in may_data\n",
    "sns.histplot(may_data['trip_distance'], bins=30, kde=True, color='olive', ax=axes[1])\n",
    "axes[1].set_title('Distribution of trip_distance (may data)')\n",
    "axes[1].set_xlabel('Distance')\n",
    "axes[1].set_ylabel('Frequency')\n",
    "\n",
    "# Adjust layout\n",
    "plt.tight_layout()\n",
    "\n",
    "# Show the plot\n",
    "plt.show()\n"
   ]
  },
  {
   "cell_type": "code",
   "execution_count": null,
   "metadata": {
    "colab": {
     "base_uri": "https://localhost:8080/",
     "height": 607
    },
    "id": "plUg_G89FSyP",
    "outputId": "61ec19f2-bf50-4f6f-d1ce-8a2c067c6b15"
   },
   "outputs": [],
   "source": [
    "# Create subplots with 1 row and 2 columns\n",
    "fig, axes = plt.subplots(nrows=1, ncols=2, figsize=(14, 6))\n",
    "\n",
    "# Box plot for 'trip_distance' in the first subplot\n",
    "sns.boxplot(y=march_data['trip_distance'], ax=axes[0])\n",
    "axes[0].set_title('Box Plot of Trip Distance - march data')\n",
    "axes[0].set_ylabel('Trip Distance')\n",
    "\n",
    "# Box plot for 'trip_distance' in the second subplot\n",
    "sns.boxplot(y=may_data['trip_distance'], ax=axes[1], color = 'orange')\n",
    "axes[1].set_title('Box Plot of Trip Distance - march data')\n",
    "axes[1].set_ylabel('Trip Distance')\n",
    "\n",
    "# Adjust layout\n",
    "plt.tight_layout()\n",
    "\n",
    "# Show the plot\n",
    "plt.show()\n"
   ]
  },
  {
   "cell_type": "code",
   "execution_count": null,
   "metadata": {
    "colab": {
     "base_uri": "https://localhost:8080/",
     "height": 720
    },
    "id": "vDfo1BjUJ7nT",
    "outputId": "606bfd23-526b-4553-c33f-c5dccac68854"
   },
   "outputs": [],
   "source": [
    "import matplotlib.pyplot as plt\n",
    "import seaborn as sns\n",
    "\n",
    "# Features and datasets\n",
    "features = ['fare_amount', 'trip_distance']\n",
    "data_sets = [march_data, may_data]\n",
    "titles = ['March', 'May']\n",
    "\n",
    "# Create subplots\n",
    "fig, axes = plt.subplots(nrows=len(features), ncols=len(data_sets), figsize=(16, 8))\n",
    "\n",
    "# Plot violin plots for each feature and dataset\n",
    "for i, feature in enumerate(features):\n",
    "    for j, data in enumerate(data_sets):\n",
    "        sns.violinplot(x='passenger_count', y=feature, data=data, palette='coolwarm', ax=axes[i][j])\n",
    "        axes[i][j].set_title(f'Violin Plot of {feature} by Passenger Count ({titles[j]})')\n",
    "        axes[i][j].set_xlabel('Passenger Count')\n",
    "        axes[i][j].set_ylabel(feature)\n",
    "\n",
    "# Adjust layout\n",
    "plt.tight_layout()\n",
    "\n",
    "# Show the plot\n",
    "plt.show()\n"
   ]
  },
  {
   "cell_type": "code",
   "execution_count": null,
   "metadata": {
    "colab": {
     "base_uri": "https://localhost:8080/",
     "height": 909
    },
    "id": "D3z7kdbS37FP",
    "outputId": "31a1854a-96e0-4544-b2f0-8c49e09256b0"
   },
   "outputs": [],
   "source": [
    "#finding correlation for march data\n",
    "correlation_matrix = march_data.corr()\n",
    "plt.figure(figsize=(12, 8))\n",
    "sns.heatmap(correlation_matrix, annot=True, fmt=\".2f\")\n",
    "plt.title('Correlation Matrix')\n",
    "plt.show()\n"
   ]
  },
  {
   "cell_type": "code",
   "execution_count": null,
   "metadata": {
    "colab": {
     "base_uri": "https://localhost:8080/",
     "height": 909
    },
    "id": "CEtfMDvQ56EP",
    "outputId": "136979ee-85f7-489c-884d-24022b649229"
   },
   "outputs": [],
   "source": [
    "#finding correlation for march data\n",
    "may_correlation_matrix = may_data.corr()\n",
    "plt.figure(figsize=(12, 8))\n",
    "sns.heatmap(may_correlation_matrix, annot=True, fmt=\".2f\")\n",
    "plt.title('Correlation Matrix')\n",
    "plt.show()"
   ]
  },
  {
   "cell_type": "code",
   "execution_count": null,
   "metadata": {
    "id": "SVl27MOvQ-w-"
   },
   "outputs": [],
   "source": [
    "#assign the the march data for training and may data for evaluation\n",
    "training_data = march_data\n",
    "testing_data = may_data"
   ]
  },
  {
   "cell_type": "code",
   "execution_count": null,
   "metadata": {
    "colab": {
     "base_uri": "https://localhost:8080/",
     "height": 648
    },
    "id": "E6BTDAcQQ-E2",
    "outputId": "bde68c70-2c46-4f35-9481-8fa204269e2a"
   },
   "outputs": [],
   "source": [
    "# Generate statistics for TFDV using march data\n",
    "stats = tfdv.generate_statistics_from_dataframe(march_data)\n",
    "\n",
    "# Infer the schema\n",
    "schema = tfdv.infer_schema(stats)\n",
    "\n",
    "# Display schema\n",
    "print(\"\\nSchema:\")\n",
    "tfdv.display_schema(schema)"
   ]
  },
  {
   "cell_type": "code",
   "execution_count": null,
   "metadata": {
    "colab": {
     "base_uri": "https://localhost:8080/",
     "height": 1000
    },
    "id": "YyHkLWp0RVEf",
    "outputId": "2101ec06-ebd7-4013-ecd5-e44f67a63a65"
   },
   "outputs": [],
   "source": [
    "tfdv.visualize_statistics(stats)"
   ]
  },
  {
   "cell_type": "code",
   "execution_count": null,
   "metadata": {
    "colab": {
     "base_uri": "https://localhost:8080/",
     "height": 57
    },
    "id": "rtAx9NkFRumX",
    "outputId": "6af0b9e3-b4aa-43bb-f759-c2f37a345247"
   },
   "outputs": [],
   "source": [
    "anomalies = tfdv.validate_statistics(statistics=stats, schema=schema)\n",
    "tfdv.display_anomalies(anomalies)"
   ]
  },
  {
   "cell_type": "code",
   "execution_count": null,
   "metadata": {
    "colab": {
     "base_uri": "https://localhost:8080/"
    },
    "id": "SBqpBCqsX3xN",
    "outputId": "51eefc8e-7297-4bf2-c0f7-adcbfb265236"
   },
   "outputs": [],
   "source": [
    "# Calculate feature importance using correlation matrix\n",
    "feature_importance = correlation_matrix['trip_distance'].abs().sort_values(ascending=False)\n",
    "print(\"Feature Importance:\")\n",
    "print(feature_importance)"
   ]
  },
  {
   "cell_type": "markdown",
   "metadata": {
    "id": "fZaXl29iYQ5s"
   },
   "source": [
    "4) Be aware of the time-window selection for the data.\n",
    "March 2020 was when COVID19 pandemic broke up in the US.\n",
    "Needless to say, every industry and business initiatives were impacted drastically.\n",
    "\n",
    "Starting March 2020, the NYC Taxi industry has established a ‘new normal’.\n",
    "\n",
    "<< Extra Credit >>:\n",
    "\n",
    "January 2020 data presents the ‘baseline’ of what the NYC Taxi business used to be.\n",
    "\n",
    "Compare the data of Jan-2020 vs Mar-2020.\n",
    "\n",
    "Present your findings.\n"
   ]
  },
  {
   "cell_type": "code",
   "execution_count": null,
   "metadata": {
    "id": "z-kf8cd7SZ74"
   },
   "outputs": [],
   "source": [
    "data_january = pd.read_parquet('/content/drive/MyDrive/yellow_tripdata_2020-01.parquet')"
   ]
  },
  {
   "cell_type": "code",
   "execution_count": null,
   "metadata": {
    "colab": {
     "base_uri": "https://localhost:8080/",
     "height": 226
    },
    "id": "TnW_QUEjUFZ_",
    "outputId": "37f6745b-4c18-46a6-ed96-0aa49f51c393"
   },
   "outputs": [],
   "source": [
    "data_january.head()"
   ]
  },
  {
   "cell_type": "code",
   "execution_count": null,
   "metadata": {
    "id": "hOlwl-vWSfCr"
   },
   "outputs": [],
   "source": [
    "# Compare summary statistics of January 2020 vs March 2020\n",
    "january_stats = data_january.describe()\n",
    "march_stats = march_data.describe()"
   ]
  },
  {
   "cell_type": "code",
   "execution_count": null,
   "metadata": {
    "id": "tr0AHB-tSmLJ"
   },
   "outputs": [],
   "source": [
    "# Compare average fare amounts\n",
    "average_fare_january = data_january['fare_amount'].mean()\n",
    "average_fare_march = march_data['fare_amount'].mean()"
   ]
  },
  {
   "cell_type": "code",
   "execution_count": null,
   "metadata": {
    "id": "1B4jLfz2Spw2"
   },
   "outputs": [],
   "source": [
    "# Compare average trip distances\n",
    "average_distance_january = data_january['trip_distance'].mean()\n",
    "average_distance_march = march_data['trip_distance'].mean()"
   ]
  },
  {
   "cell_type": "code",
   "execution_count": null,
   "metadata": {
    "id": "Pbn-zVc3SuMa"
   },
   "outputs": [],
   "source": [
    "# Compare total number of rides\n",
    "total_rides_january = len(data_january)\n",
    "total_rides_march = len(march_data)"
   ]
  },
  {
   "cell_type": "code",
   "execution_count": null,
   "metadata": {
    "colab": {
     "base_uri": "https://localhost:8080/"
    },
    "id": "YhmgST_uSxMp",
    "outputId": "88125448-1963-4029-9366-1524691e04a7"
   },
   "outputs": [],
   "source": [
    "# Print and visualize the comparisons\n",
    "print(\"Comparison between January 2020 and March 2020:\")\n",
    "print(\"Summary Statistics:\")\n",
    "print(\"January 2020:\")\n",
    "print(january_stats)\n",
    "print(\"March 2020:\")\n",
    "print(march_stats)"
   ]
  },
  {
   "cell_type": "code",
   "execution_count": null,
   "metadata": {
    "colab": {
     "base_uri": "https://localhost:8080/"
    },
    "id": "bk-h3QCXS2QL",
    "outputId": "2fced49b-b8ac-45f4-d62a-b880cbbabcb7"
   },
   "outputs": [],
   "source": [
    "print(\"Average Fare Amount:\")\n",
    "print(\"January 2020: $\", average_fare_january)\n",
    "print(\"March 2020: $\", average_fare_march)"
   ]
  },
  {
   "cell_type": "code",
   "execution_count": null,
   "metadata": {
    "colab": {
     "base_uri": "https://localhost:8080/"
    },
    "id": "GYG7qT5YS4CT",
    "outputId": "392a0a77-517a-4d93-f77a-f475b4a7eebe"
   },
   "outputs": [],
   "source": [
    "print(\"Average Trip Distance:\")\n",
    "print(\"January 2020:\", average_distance_january, \"miles\")\n",
    "print(\"March 2020:\", average_distance_march, \"miles\")"
   ]
  },
  {
   "cell_type": "code",
   "execution_count": null,
   "metadata": {
    "colab": {
     "base_uri": "https://localhost:8080/"
    },
    "id": "g0MKndHiS6A7",
    "outputId": "b4b2a169-750b-412c-a95f-57916172f38a"
   },
   "outputs": [],
   "source": [
    "print(\"Total Number of Rides:\")\n",
    "print(\"January 2020:\", total_rides_january)\n",
    "print(\"March 2020:\", total_rides_march)"
   ]
  },
  {
   "cell_type": "code",
   "execution_count": null,
   "metadata": {
    "colab": {
     "base_uri": "https://localhost:8080/",
     "height": 573
    },
    "id": "Vbdn1Wk1Y2Ou",
    "outputId": "1e326fcd-c9bc-4b8f-8ed0-b5ee012c6bad"
   },
   "outputs": [],
   "source": [
    "# Calculate average trip fare for January and March\n",
    "january_avg_fare = data_january['fare_amount'].mean()\n",
    "march_avg_fare = march_data['fare_amount'].mean()\n",
    "\n",
    "# Data for the bar plot\n",
    "months = ['January', 'March']\n",
    "avg_fares = [january_avg_fare, march_avg_fare]\n",
    "\n",
    "# Create a bar plot using Seaborn\n",
    "sns.set(style=\"whitegrid\")\n",
    "plt.figure(figsize=(8, 6))\n",
    "sns.barplot(x=months, y=avg_fares, palette=['skyblue', 'olive'])\n",
    "plt.title('Average Trip Fare by Month')\n",
    "plt.xlabel('Month')\n",
    "plt.ylabel('Average Fare Amount')\n",
    "plt.show()"
   ]
  },
  {
   "cell_type": "code",
   "execution_count": null,
   "metadata": {
    "id": "3Gz2AlN7Z9oy"
   },
   "outputs": [],
   "source": []
  }
 ],
 "metadata": {
  "colab": {
   "provenance": []
  },
  "kernelspec": {
   "display_name": "Python 3 (ipykernel)",
   "language": "python",
   "name": "python3"
  },
  "language_info": {
   "codemirror_mode": {
    "name": "ipython",
    "version": 3
   },
   "file_extension": ".py",
   "mimetype": "text/x-python",
   "name": "python",
   "nbconvert_exporter": "python",
   "pygments_lexer": "ipython3",
   "version": "3.12.3"
  }
 },
 "nbformat": 4,
 "nbformat_minor": 4
}
